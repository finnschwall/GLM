{
 "cells": [
  {
   "cell_type": "code",
   "execution_count": 1,
   "id": "9a0ea00f-1c37-4058-9002-7ff132fc639b",
   "metadata": {},
   "outputs": [],
   "source": [
    "%load_ext autoreload\n",
    "%autoreload 2\n",
    "from pyalm import OpenAI, ConversationRoles, ALM\n",
    "from pprint import pp\n",
    "cr = ConversationRoles"
   ]
  },
  {
   "cell_type": "markdown",
   "id": "cd88c254-e992-4d31-bed2-3bd353316184",
   "metadata": {},
   "source": [
    "This is an examplar function. You can use any python function you want. The information for the model is based on the function's signature and docstring.\n",
    "So a good description helps the model a lot."
   ]
  },
  {
   "cell_type": "code",
   "execution_count": 2,
   "id": "4206e3ae-59b4-41a5-91d6-2a150d527f60",
   "metadata": {},
   "outputs": [
    {
     "data": {
      "text/plain": [
       "'DEG CEL: 19.0, HUM %: 85.7'"
      ]
     },
     "execution_count": 2,
     "metadata": {},
     "output_type": "execute_result"
    }
   ],
   "source": [
    "import random\n",
    "def get_weather(location, days_from_now=1):\n",
    "    \"\"\"\n",
    "    Retrieve weather data from the worlds best weather service\n",
    "    :param location: City, region or country for which to pull weather data\n",
    "    :param days_from_now: For which day (compared to today) to get the weather. Must be <8.\n",
    "    :return: Weather data as string\n",
    "    \"\"\"\n",
    "    return f\"DEG CEL: {round(random.uniform(10,35),1)}, HUM %: {round(random.uniform(20,95),1)}\"\n",
    "get_weather(\"Sydney\")"
   ]
  },
  {
   "cell_type": "code",
   "execution_count": 3,
   "id": "fa737861-234b-486f-af85-2d0661768dba",
   "metadata": {},
   "outputs": [],
   "source": [
    "llm = OpenAI(\"gpt4\", openai_key=API_KEY) #setting via OPENAI_KEY in os is possible too"
   ]
  },
  {
   "cell_type": "markdown",
   "id": "9bb0743b-6cb0-43c2-b764-d4cbaffb04a9",
   "metadata": {},
   "source": [
    "Lets build a short conversation that should result in our get_weather function being called."
   ]
  },
  {
   "cell_type": "code",
   "execution_count": 6,
   "id": "046f3ffa-0f59-45d4-80a5-7242b3684027",
   "metadata": {},
   "outputs": [
    {
     "name": "stdout",
     "output_type": "stream",
     "text": [
      "Sure, let me check that for you. This might take a few seconds.\n",
      "+++getWeather(city=\"Sydney\", date=\"tomorrow\")Sure, let me check that for you. This might take a few seconds.\n",
      "+++getWeather(city=\"Sydney\", date=\"tomorrow\")\n"
     ]
    }
   ],
   "source": [
    "llm.reset_tracker()\n",
    "llm.set_system_message(\"You are a helpful bot that can help with weather predictions\")\n",
    "llm.add_tracker_entry(cr.USER, \"Yoooo can you tell me what the weather is like in sydney in 10 weeks?\")\n",
    "llm.add_tracker_entry(cr.ASSISTANT, \"Sorry but I can only predict the weather for up to 8 days.\")\n",
    "llm.add_tracker_entry(cr.USER, \"Ok what about the weather in sydney tomorrow?\")\n",
    "\n",
    "ret = llm.create_completion(max_tokens = 200, temperature=0)\n",
    "print(ret)"
   ]
  },
  {
   "cell_type": "code",
   "execution_count": null,
   "id": "ee845c29-a75e-4843-bbd9-09b8f754cd08",
   "metadata": {},
   "outputs": [],
   "source": [
    "# for i in gen:\n",
    "#     pass\n",
    "# print()\n",
    "\n",
    ")#, token_prob_delta={229 :8, 161:11})"
   ]
  }
 ],
 "metadata": {
  "kernelspec": {
   "display_name": "cuda_ml",
   "language": "python",
   "name": "cuda_ml"
  },
  "language_info": {
   "codemirror_mode": {
    "name": "ipython",
    "version": 3
   },
   "file_extension": ".py",
   "mimetype": "text/x-python",
   "name": "python",
   "nbconvert_exporter": "python",
   "pygments_lexer": "ipython3",
   "version": "3.10.11"
  }
 },
 "nbformat": 4,
 "nbformat_minor": 5
}
